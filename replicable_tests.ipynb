{
  "nbformat": 4,
  "nbformat_minor": 0,
  "metadata": {
    "colab": {
      "name": "replicable-tests",
      "provenance": []
    },
    "kernelspec": {
      "name": "python3",
      "display_name": "Python 3"
    },
    "language_info": {
      "name": "python"
    }
  },
  "cells": [
    {
      "cell_type": "code",
      "execution_count": null,
      "metadata": {
        "id": "SdxQpQiEQBWz"
      },
      "outputs": [],
      "source": [
        "import pandas as pd\n",
        "\n",
        "uri = \"https://gist.githubusercontent.com/guilhermesilveira/2d2efa37d66b6c84a722ea627a897ced/raw/10968b997d885cbded1c92938c7a9912ba41c615/tracking.csv\"\n",
        "data = pd.read_csv(uri)\n",
        "data.head()"
      ]
    },
    {
      "cell_type": "code",
      "source": [
        "X = data[['home', 'how_it_works', 'contact']]\n",
        "y = data['bought']"
      ],
      "metadata": {
        "id": "RIgONuSzQ-0w"
      },
      "execution_count": 5,
      "outputs": []
    },
    {
      "cell_type": "code",
      "source": [
        "data.shape"
      ],
      "metadata": {
        "colab": {
          "base_uri": "https://localhost:8080/"
        },
        "id": "fTH_4fZJRzBn",
        "outputId": "ded5be40-b8de-4bb5-ddf1-cc84233708e3"
      },
      "execution_count": 6,
      "outputs": [
        {
          "output_type": "execute_result",
          "data": {
            "text/plain": [
              "(99, 4)"
            ]
          },
          "metadata": {},
          "execution_count": 6
        }
      ]
    },
    {
      "cell_type": "code",
      "source": [
        "X_train = X[:75]\n",
        "y_train = y[:75]\n",
        "X_test = X[75:]\n",
        "y_test = y[75:]\n",
        "\n",
        "print(f'Training with {len(X_train)} and testing with {len(X_test)} elements')"
      ],
      "metadata": {
        "id": "S_6hB97KR1_7"
      },
      "execution_count": null,
      "outputs": []
    },
    {
      "cell_type": "code",
      "source": [
        "from sklearn.svm import LinearSVC\n",
        "from sklearn.metrics import accuracy_score\n",
        "\n",
        "model = LinearSVC()\n",
        "model.fit(X_train, y_train)\n",
        "predictions = model.predict(X_test)\n",
        "\n",
        "accuracy = accuracy_score(y_test, predictions) * 100\n",
        "print(f'Accuracy was {accuracy:.2f}')"
      ],
      "metadata": {
        "colab": {
          "base_uri": "https://localhost:8080/"
        },
        "id": "ocOMJmbLScsm",
        "outputId": "61458375-a3c7-428c-e542-c8de79f39949"
      },
      "execution_count": 12,
      "outputs": [
        {
          "output_type": "stream",
          "name": "stdout",
          "text": [
            "Accuracy was 95.83\n"
          ]
        }
      ]
    },
    {
      "cell_type": "markdown",
      "source": [
        "# Using library to separate training and testing"
      ],
      "metadata": {
        "id": "AxtKE0RcUPmQ"
      }
    },
    {
      "cell_type": "code",
      "source": [
        "from sklearn.model_selection import train_test_split\n",
        "from sklearn.svm import LinearSVC\n",
        "from sklearn.metrics import accuracy_score\n",
        "\n",
        "SEED = 20\n",
        "\n",
        "X_train, X_test, y_train, y_test = train_test_split(X, y, random_state = SEED, test_size=0.25)\n",
        "\n",
        "model = LinearSVC()\n",
        "model.fit(X_train, y_train)\n",
        "predictions = model.predict(X_test)\n",
        "\n",
        "accuracy = accuracy_score(y_test, predictions) * 100\n",
        "print(f'Accuracy was {accuracy:.2f}')"
      ],
      "metadata": {
        "colab": {
          "base_uri": "https://localhost:8080/"
        },
        "id": "IJA0gy2MTkE7",
        "outputId": "7fb3e282-d319-4f0f-c5ed-dd5484ea907a"
      },
      "execution_count": 25,
      "outputs": [
        {
          "output_type": "stream",
          "name": "stdout",
          "text": [
            "Accuracy was 96.00\n"
          ]
        }
      ]
    },
    {
      "cell_type": "code",
      "source": [
        "print(y_train.value_counts())\n",
        "print(y_test.value_counts())"
      ],
      "metadata": {
        "colab": {
          "base_uri": "https://localhost:8080/"
        },
        "id": "ZJy5V9A-VUVW",
        "outputId": "19601700-7a1d-4cbf-f83a-7ea0c1b518a4"
      },
      "execution_count": 26,
      "outputs": [
        {
          "output_type": "stream",
          "name": "stdout",
          "text": [
            "0    47\n",
            "1    27\n",
            "Name: bought, dtype: int64\n",
            "0    19\n",
            "1     6\n",
            "Name: bought, dtype: int64\n"
          ]
        }
      ]
    },
    {
      "cell_type": "markdown",
      "source": [
        "## Stratify according to the Y"
      ],
      "metadata": {
        "id": "UhtUSi2UVDg-"
      }
    },
    {
      "cell_type": "code",
      "source": [
        "from sklearn.model_selection import train_test_split\n",
        "from sklearn.svm import LinearSVC\n",
        "from sklearn.metrics import accuracy_score\n",
        "\n",
        "SEED = 20\n",
        "\n",
        "X_train, X_test, y_train, y_test = train_test_split(X, y, random_state = SEED, test_size=0.25,\n",
        "                                                    stratify= y)\n",
        "\n",
        "model = LinearSVC()\n",
        "model.fit(X_train, y_train)\n",
        "predictions = model.predict(X_test)\n",
        "\n",
        "accuracy = accuracy_score(y_test, predictions) * 100\n",
        "print(f'Accuracy was {accuracy:.2f}')"
      ],
      "metadata": {
        "colab": {
          "base_uri": "https://localhost:8080/"
        },
        "id": "md0Ls3rGVBH9",
        "outputId": "6e752b08-5b25-4318-b895-e7a986f57207"
      },
      "execution_count": 29,
      "outputs": [
        {
          "output_type": "stream",
          "name": "stdout",
          "text": [
            "Accuracy was 96.00\n"
          ]
        }
      ]
    },
    {
      "cell_type": "code",
      "source": [
        "print(y_train.value_counts())\n",
        "print(y_test.value_counts())"
      ],
      "metadata": {
        "colab": {
          "base_uri": "https://localhost:8080/"
        },
        "id": "9QRz_nN9Vfh8",
        "outputId": "9a5c445c-1580-4315-ae4c-5305384eb118"
      },
      "execution_count": 30,
      "outputs": [
        {
          "output_type": "stream",
          "name": "stdout",
          "text": [
            "0    49\n",
            "1    25\n",
            "Name: bought, dtype: int64\n",
            "0    17\n",
            "1     8\n",
            "Name: bought, dtype: int64\n"
          ]
        }
      ]
    }
  ]
}