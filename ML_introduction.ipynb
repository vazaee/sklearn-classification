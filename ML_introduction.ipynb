{
  "nbformat": 4,
  "nbformat_minor": 0,
  "metadata": {
    "colab": {
      "name": "ML-introduction",
      "provenance": []
    },
    "kernelspec": {
      "name": "python3",
      "display_name": "Python 3"
    },
    "language_info": {
      "name": "python"
    }
  },
  "cells": [
    {
      "cell_type": "code",
      "execution_count": 1,
      "metadata": {
        "id": "tlN99pNHHTjT"
      },
      "outputs": [],
      "source": [
        "# features (1 yes, 0 no)\n",
        "# long hair?\n",
        "# short leg?\n",
        "# bark?\n",
        "pig1 = [0, 1, 0]\n",
        "pig2 = [0, 1, 1]\n",
        "pig3 = [1, 1, 0]\n",
        "\n",
        "dog1 = [0, 1, 1]\n",
        "dog2 = [1, 0, 1]\n",
        "dog3 = [1, 1, 1]\n",
        "\n",
        "# 1 => pig, 0 => dog\n",
        "X_train = [pig1, pig2, pig3, dog1, dog2, dog3]\n",
        "y_train = [1, 1, 1, 0, 0, 0]"
      ]
    },
    {
      "cell_type": "code",
      "source": [
        "from sklearn.svm import LinearSVC\n",
        "\n",
        "model = LinearSVC()\n",
        "model.fit(X_train, y_train)"
      ],
      "metadata": {
        "colab": {
          "base_uri": "https://localhost:8080/"
        },
        "id": "wFDcMLATKQXt",
        "outputId": "3475d255-e189-41c9-d644-cc758165d42f"
      },
      "execution_count": 2,
      "outputs": [
        {
          "output_type": "execute_result",
          "data": {
            "text/plain": [
              "LinearSVC()"
            ]
          },
          "metadata": {},
          "execution_count": 2
        }
      ]
    },
    {
      "cell_type": "code",
      "source": [
        "mysterious_animal = [1, 1, 1]\n",
        "model.predict([mysterious_animal])"
      ],
      "metadata": {
        "colab": {
          "base_uri": "https://localhost:8080/"
        },
        "id": "nUEsDaBNKmxe",
        "outputId": "0b656e19-b5f5-4436-b451-ffc0a0568ce0"
      },
      "execution_count": 3,
      "outputs": [
        {
          "output_type": "execute_result",
          "data": {
            "text/plain": [
              "array([0])"
            ]
          },
          "metadata": {},
          "execution_count": 3
        }
      ]
    },
    {
      "cell_type": "code",
      "source": [
        "mystery1 = [1, 1, 1]\n",
        "mystery2 = [1, 1, 0]\n",
        "mystery3 = [0, 1, 1]\n",
        "\n",
        "X_test = [mystery1, mystery2, mystery3]\n",
        "y_test = [0, 1, 1]\n",
        "\n",
        "predictions = model.predict(X_test)"
      ],
      "metadata": {
        "id": "O4ypONvwK4tD"
      },
      "execution_count": 4,
      "outputs": []
    },
    {
      "cell_type": "code",
      "source": [
        "correct = (predictions == y_test).sum()\n",
        "total = len(X_test)\n",
        "hit_rate = correct/total\n",
        "print('Hit rate: %.2f' % (hit_rate * 100) )"
      ],
      "metadata": {
        "colab": {
          "base_uri": "https://localhost:8080/"
        },
        "id": "beNwWrgzLlep",
        "outputId": "cde9010a-bda7-48ee-c287-efe205f4f9ef"
      },
      "execution_count": 6,
      "outputs": [
        {
          "output_type": "stream",
          "name": "stdout",
          "text": [
            "Hit rate: 66.67\n"
          ]
        }
      ]
    },
    {
      "cell_type": "code",
      "source": [
        "from sklearn.metrics import accuracy_score \n",
        "\n",
        "accuracy = accuracy_score(y_test, predictions)\n",
        "print('Accuracy: %.2f' % (accuracy * 100) )"
      ],
      "metadata": {
        "colab": {
          "base_uri": "https://localhost:8080/"
        },
        "id": "-mpUEnexMNXu",
        "outputId": "660a1fdc-6b75-4452-9aab-7236089a9da2"
      },
      "execution_count": 7,
      "outputs": [
        {
          "output_type": "stream",
          "name": "stdout",
          "text": [
            "Accuracy: 66.67\n"
          ]
        }
      ]
    }
  ]
}